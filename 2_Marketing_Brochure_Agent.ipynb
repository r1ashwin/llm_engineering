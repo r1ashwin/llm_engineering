{
 "cells": [
  {
   "cell_type": "code",
   "execution_count": null,
   "id": "3e7e8a0c-8418-41af-b6a1-760536c5f893",
   "metadata": {},
   "outputs": [],
   "source": [
    "#BUILDING A MARKETTING BROUCHRE AI AGENT"
   ]
  },
  {
   "cell_type": "code",
   "execution_count": null,
   "id": "b56bcfc6-372d-4aad-ac5b-1fe012571947",
   "metadata": {},
   "outputs": [],
   "source": [
    "import requests\n",
    "import ollama\n",
    "import json #maybe useful when requiring JSON format \n",
    "from bs4 import BeautifulSoup\n",
    "from IPython.display import Markdown, display, update_display\n"
   ]
  },
  {
   "cell_type": "code",
   "execution_count": null,
   "id": "646453ae-d7c6-4d4c-b149-38781125860d",
   "metadata": {},
   "outputs": [],
   "source": [
    "# Constants\n",
    "\n",
    "OLLAMA_API = \"http://localhost:11434/api/chat\"\n",
    "HEADERS = {\"Content-Type\": \"application/json\"}\n",
    "MODEL = \"llama3.2\""
   ]
  },
  {
   "cell_type": "code",
   "execution_count": null,
   "id": "728f4968-d2ef-4e5c-bbac-f1d789b65e4c",
   "metadata": {},
   "outputs": [],
   "source": [
    "# A class to represent a Webpage\n",
    "\n",
    "# Some websites need you to use proper headers when fetching them:\n",
    "headers = {\n",
    " \"User-Agent\": \"Mozilla/5.0 (Windows NT 10.0; Win64; x64) AppleWebKit/537.36 (KHTML, like Gecko) Chrome/117.0.0.0 Safari/537.36\"\n",
    "}\n",
    "\n",
    "class Website:\n",
    "    \"\"\"\n",
    "    A utility class to represent a Website that we have scraped, now with links\n",
    "    \"\"\"\n",
    "\n",
    "    def __init__(self, url):\n",
    "        self.url = url\n",
    "        response = requests.get(url, headers=headers)\n",
    "        self.body = response.content\n",
    "        soup = BeautifulSoup(self.body, 'html.parser')\n",
    "        self.title = soup.title.string if soup.title else \"No title found\"\n",
    "        if soup.body:\n",
    "            for irrelevant in soup.body([\"script\", \"style\", \"img\", \"input\"]):\n",
    "                irrelevant.decompose()\n",
    "            self.text = soup.body.get_text(separator=\"\\n\", strip=True)\n",
    "        else:\n",
    "            self.text = \"\"\n",
    "        links = [link.get('href') for link in soup.find_all('a')]\n",
    "        self.links = [link for link in links if link]\n",
    "\n",
    "    def get_contents(self):\n",
    "        return f\"Webpage Title:\\n{self.title}\\nWebpage Contents:\\n{self.text}\\n\\n\""
   ]
  },
  {
   "cell_type": "code",
   "execution_count": null,
   "id": "26302244-9946-4a06-b5dd-8a1f4c75b5b3",
   "metadata": {},
   "outputs": [],
   "source": [
    "ed = Website(\"https://edwarddonner.com\")\n",
    "ed.links"
   ]
  },
  {
   "cell_type": "code",
   "execution_count": null,
   "id": "a88a9418-c25d-4a16-99f0-f9d2c1438a85",
   "metadata": {},
   "outputs": [],
   "source": [
    "link_system_prompt = \"\"\"\n",
    "You are provided with a list of links found on a webpage. You must decide which of the links are most relevant to include in a brochure about the company, such as About pages, Company pages, Careers/Jobs pages, or other significant links.\n",
    "\n",
    "Respond **only** in JSON format, with no additional explanation, as in this example:\n",
    "{\n",
    "    \"links\": [\n",
    "        {\"type\": \"about page\", \"url\": \"https://full.url/goes/here/about\"},\n",
    "        {\"type\": \"careers page\", \"url\": \"https://another.full.url/careers\"}\n",
    "    ]\n",
    "}\n",
    "\"\"\"\n"
   ]
  },
  {
   "cell_type": "code",
   "execution_count": null,
   "id": "e533073f-fd3e-4ce1-aaa1-80748ff6a6e8",
   "metadata": {},
   "outputs": [],
   "source": [
    "print(link_system_prompt)"
   ]
  },
  {
   "cell_type": "code",
   "execution_count": null,
   "id": "cf148e51-2f19-4cdf-a1f9-a6b6f81e8f49",
   "metadata": {},
   "outputs": [],
   "source": [
    "def get_links_user_prompt(website):\n",
    "    user_prompt = f\"Here is the list of links on the website of {website.url} - \"\n",
    "    user_prompt += \"please decide which of these are relevant web links for a brochure about the company, respond with the full https URL in JSON format. \\\n",
    "Do not include Terms of Service, Privacy, email links.\\n\"\n",
    "    user_prompt += \"Links (some might be relative links):\\n\"\n",
    "    user_prompt += \"\\n\".join(website.links)\n",
    "    return user_prompt"
   ]
  },
  {
   "cell_type": "code",
   "execution_count": null,
   "id": "aae2f2e9-0561-471c-a77f-78318e14c6f9",
   "metadata": {},
   "outputs": [],
   "source": [
    "print(get_links_user_prompt(ed))"
   ]
  },
  {
   "cell_type": "code",
   "execution_count": null,
   "id": "57dd89e7-06e9-4538-801d-456712ff04df",
   "metadata": {},
   "outputs": [],
   "source": [
    "def messages_for_links(website):\n",
    "    return [\n",
    "        {\"role\": \"system\", \"content\": link_system_prompt},\n",
    "        {\"role\": \"user\", \"content\": get_links_user_prompt(website)}\n",
    "    ]"
   ]
  },
  {
   "cell_type": "code",
   "execution_count": null,
   "id": "7ad682c0-5897-450e-b83c-538b7147c0a2",
   "metadata": {},
   "outputs": [],
   "source": [
    "link_system_prompt"
   ]
  },
  {
   "cell_type": "code",
   "execution_count": null,
   "id": "15580765-5682-4642-8dff-90696679f3f5",
   "metadata": {},
   "outputs": [],
   "source": [
    "get_links_user_prompt(ed)"
   ]
  },
  {
   "cell_type": "code",
   "execution_count": null,
   "id": "c3cdf0c4-dc72-4e22-ac80-1fd8c87c4692",
   "metadata": {},
   "outputs": [],
   "source": [
    "def messages_for_links(website):\n",
    "    return [\n",
    "        {\"role\": \"system\", \"content\": link_system_prompt},\n",
    "        {\"role\": \"user\", \"content\": get_links_user_prompt(website)}\n",
    "    ]"
   ]
  },
  {
   "cell_type": "code",
   "execution_count": null,
   "id": "62d19770-c3bc-4ac8-8142-c99d2da535f2",
   "metadata": {},
   "outputs": [],
   "source": [
    "messages_for_links(ed)"
   ]
  },
  {
   "cell_type": "code",
   "execution_count": null,
   "id": "620694cb-cabc-42fb-a40d-242f0cbd495f",
   "metadata": {},
   "outputs": [],
   "source": [
    "def get_links(url):\n",
    "    website = Website(url)\n",
    "    payload = {\n",
    "        \"model\": MODEL,\n",
    "        \"messages\": messages_for_links(website),\n",
    "        \"stream\": False\n",
    "    }\n",
    "    response = requests.post(OLLAMA_API, json=payload, headers=HEADERS)\n",
    "    api_response = response.json()\n",
    "    try:\n",
    "        result = api_response[\"message\"][\"content\"]\n",
    "        return json.loads(result)  # Parse result as JSON\n",
    "    except json.JSONDecodeError:\n",
    "        return {\"error\": \"API did not return valid JSON\", \"content\": result}"
   ]
  },
  {
   "cell_type": "code",
   "execution_count": null,
   "id": "0dea5459-76a3-4d7b-b9ef-0bc3984e5e16",
   "metadata": {},
   "outputs": [],
   "source": [
    "#print(get_links(\"https://www.edwarddonner.com\"))"
   ]
  },
  {
   "cell_type": "code",
   "execution_count": null,
   "id": "9eac3ae5-cdbf-4d83-938e-2b9aa54b62de",
   "metadata": {},
   "outputs": [],
   "source": [
    "huggingface = Website(\"https://huggingface.co\")\n",
    "huggingface.links"
   ]
  },
  {
   "cell_type": "code",
   "execution_count": null,
   "id": "06180a93-d0a1-4734-861b-92280e1de5d9",
   "metadata": {},
   "outputs": [],
   "source": [
    "get_links(\"https://huggingface.co\")"
   ]
  },
  {
   "cell_type": "code",
   "execution_count": null,
   "id": "847d20d6-e1b9-409d-99ab-f6f661b2179b",
   "metadata": {},
   "outputs": [],
   "source": [
    "def get_all_details(url):\n",
    "    result = \"Landing page:\\n\"\n",
    "    result += Website(url).get_contents()\n",
    "    links = get_links(url)\n",
    "    #print(\"Found links:\", links)\n",
    "    for link in links[\"links\"]:\n",
    "        result += f\"\\n\\n{link['type']}\\n\"\n",
    "        result += Website(link[\"url\"]).get_contents()\n",
    "    return result"
   ]
  },
  {
   "cell_type": "code",
   "execution_count": null,
   "id": "b8f91081-2b6d-4ba4-b8c1-14df071bf325",
   "metadata": {},
   "outputs": [],
   "source": [
    "print(get_all_details(\"https://www.nebula.io\"))"
   ]
  },
  {
   "cell_type": "code",
   "execution_count": null,
   "id": "6d57c343-e0c6-4ecf-9986-a6b16cc5b85f",
   "metadata": {},
   "outputs": [],
   "source": [
    "# system_prompt = \"You are an assistant that analyzes the contents of several relevant pages from a company website \\\n",
    "# and creates a short brochure about the company for prospective customers, investors and recruits. Respond in markdown.\\\n",
    "# Include details of company culture, customers and careers/jobs if you have the information.\"\n",
    "\n",
    "# Or uncomment the lines below for a more humorous brochure - this demonstrates how easy it is to incorporate 'tone':\n",
    "\n",
    "system_prompt = \"You are an assistant that analyzes the contents of several relevant pages from a company website \\\n",
    "and creates a short humorous, entertaining, jokey brochure about the company for prospective customers, investors and recruits. Respond in markdown.\\\n",
    "Include details of company culture, customers and careers/jobs if you have the information.\"\n"
   ]
  },
  {
   "cell_type": "code",
   "execution_count": null,
   "id": "c9547bd7-fad8-460d-bf54-64d01ea4344b",
   "metadata": {},
   "outputs": [],
   "source": [
    "def get_brochure_user_prompt(company_name, url):\n",
    "    user_prompt = f\"You are looking at a company called: {company_name}\\n\"\n",
    "    user_prompt += f\"Here are the contents of its landing page and other relevant pages; use this information to build a short brochure of the company in markdown.\\n\"\n",
    "    user_prompt += get_all_details(url)\n",
    "    user_prompt = user_prompt[:5_000] # Truncate if more than 5,000 characters\n",
    "    return user_prompt"
   ]
  },
  {
   "cell_type": "code",
   "execution_count": null,
   "id": "b99874d9-d4db-449b-b285-76dba323c4d7",
   "metadata": {},
   "outputs": [],
   "source": [
    "get_brochure_user_prompt(\"NEBULA.io\", \"https://www.nebula.io\")"
   ]
  },
  {
   "cell_type": "code",
   "execution_count": null,
   "id": "6c9afea9-73f8-4a19-a950-abcebd54d393",
   "metadata": {},
   "outputs": [],
   "source": [
    "def messages_for_brochure(company_name, url):\n",
    "    return [\n",
    "        {\"role\": \"system\", \"content\": system_prompt},\n",
    "        {\"role\": \"user\", \"content\": get_brochure_user_prompt(company_name, url)}\n",
    "    ]"
   ]
  },
  {
   "cell_type": "code",
   "execution_count": null,
   "id": "1f80fca9-8fbe-4c2e-a189-2ec44d5f4b55",
   "metadata": {},
   "outputs": [],
   "source": [
    "def create_brochure(company_name, url):\n",
    "     payload = {\n",
    "        \"model\": MODEL,\n",
    "        \"messages\": messages_for_brochure(company_name, url ),\n",
    "        \"stream\": False\n",
    "    }\n",
    "     response = requests.post(OLLAMA_API, json=payload, headers=HEADERS)\n",
    "     return (response.json()['message']['content'])"
   ]
  },
  {
   "cell_type": "code",
   "execution_count": null,
   "id": "b8de5de2-7838-4597-be1c-67ab63c51ff6",
   "metadata": {},
   "outputs": [],
   "source": [
    "create_brochure(\"NEBULA\", \"https://www.nebula.io\")"
   ]
  },
  {
   "cell_type": "code",
   "execution_count": null,
   "id": "84c8d353-a94c-4b3e-9510-6fcc14d95ab3",
   "metadata": {},
   "outputs": [],
   "source": [
    "import requests\n",
    "import json\n",
    "from IPython.display import Markdown, display\n",
    "\n",
    "def stream_brochure(company_name, url):\n",
    "    payload = {\n",
    "        \"model\": MODEL,\n",
    "        \"messages\": messages_for_brochure(company_name, url),\n",
    "        \"stream\": True  # Enable streaming\n",
    "    }\n",
    "\n",
    "    # Initialize the display for live updates\n",
    "    display_handle = display(Markdown(\"\"), display_id=True)\n",
    "    response_accumulated = \"\"  # Accumulated response\n",
    "\n",
    "    try:\n",
    "        with requests.post(OLLAMA_API, json=payload, headers=HEADERS, stream=True) as response:\n",
    "            response.raise_for_status()  # Ensure the request was successful\n",
    "            \n",
    "            # Iterate through streamed response lines\n",
    "            for line in response.iter_lines():\n",
    "                if line:  # Ignore keep-alive newlines\n",
    "                    try:\n",
    "                        data = json.loads(line)\n",
    "                        if \"message\" in data and \"content\" in data[\"message\"]:\n",
    "                            content = data[\"message\"][\"content\"]\n",
    "                            response_accumulated += content\n",
    "                            # Clean and update the markdown display\n",
    "                            formatted_response = response_accumulated.replace(\"```\", \"\").replace(\"markdown\", \"\")\n",
    "                            display_handle.update(Markdown(formatted_response))  # Update the display\n",
    "                    except json.JSONDecodeError as e:\n",
    "                        print(f\"Error decoding JSON: {e}\")\n",
    "    except requests.exceptions.RequestException as e:\n",
    "        print(f\"Error with the request: {e}\")\n"
   ]
  },
  {
   "cell_type": "code",
   "execution_count": 186,
   "id": "b10c2b56-2c9a-4ed5-beb4-87e66a48c925",
   "metadata": {},
   "outputs": [
    {
     "data": {
      "text/markdown": [
       "**Welcome to Nebula: The Intelligent Talent Acquisition Platform That's Changing the Game**\n",
       "\n",
       "[Image of a starry night sky with a bright nebula in the center]\n",
       "\n",
       "Are you tired of sifting through countless resumes and job boards, only to find that they're not quite what you're looking for? Look no further than Nebula, the intelligent talent acquisition platform that reimagines recruitment.\n",
       "\n",
       "**Our Mission**\n",
       "\n",
       "At Nebula, we believe that finding the right person for the job should be easier than ever. That's why we've created a platform that uses cutting-edge technology and machine learning algorithms to connect you with the world's best talent.\n",
       "\n",
       "**What Sets Us Apart**\n",
       "\n",
       "* **Access to the World's Best Talent**: Nebula contains the world's best talent, validated by top sources, educators, and employers.\n",
       "* **Proprietary Algorithms**: Our matching engine analyzes hundreds of millions of profiles in seconds to provide you with the most meaningful matches.\n",
       "* **Diversity, Equity & Inclusion**: We're committed to fair and equal employment initiatives, ensuring that bias is eliminated from our AI models.\n",
       "\n",
       "**Our Team**\n",
       "\n",
       "Meet the team behind Nebula:\n",
       "\n",
       "* **Steven Talbot**: Co-Founder and CEO\n",
       "* **Ed Donner**: Co-Founder and CTO\n",
       "* **Jon Krohn**: Co-Founder and Chief Data Scientist\n",
       "* **Alex Gardner**: CFO\n",
       "* **Mike Evers**: Strategy & GTM\n",
       "\n",
       "**What Our Customers Say**\n",
       "\n",
       "\"Don Nebula has revolutionized our recruitment process. We've saved time, reduced bias, and found top talent faster than ever before.\" - Fortune 500 Client\n",
       "\n",
       "**Ready to Experience the Future of Recruitment?**\n",
       "\n",
       "Schedule a demo today and see how Nebula can transform your hiring process.\n",
       "\n",
       "**Try It For Free**\n",
       "\n",
       "Take Nebula for a spin and discover why we're recognized as one of the most innovative companies in recruitment.\n",
       "\n",
       "[Image of a person working on a laptop with a satisfied expression]\n",
       "\n",
       "**Join Our Mission**\n",
       "\n",
       "Be part of a team that's changing the face of talent acquisition. Explore our careers page to find out how you can join the Nebula crew!\n",
       "\n",
       "[Link to Careers Page]"
      ],
      "text/plain": [
       "<IPython.core.display.Markdown object>"
      ]
     },
     "metadata": {},
     "output_type": "display_data"
    }
   ],
   "source": [
    "stream_brochure(\"NEBULA\", \"https://www.nebula.io\")"
   ]
  },
  {
   "cell_type": "code",
   "execution_count": null,
   "id": "67d990a5-3f5f-491c-9eeb-3b2bbf6d9f4e",
   "metadata": {},
   "outputs": [],
   "source": []
  }
 ],
 "metadata": {
  "kernelspec": {
   "display_name": "Python 3 (ipykernel)",
   "language": "python",
   "name": "python3"
  },
  "language_info": {
   "codemirror_mode": {
    "name": "ipython",
    "version": 3
   },
   "file_extension": ".py",
   "mimetype": "text/x-python",
   "name": "python",
   "nbconvert_exporter": "python",
   "pygments_lexer": "ipython3",
   "version": "3.11.11"
  }
 },
 "nbformat": 4,
 "nbformat_minor": 5
}
