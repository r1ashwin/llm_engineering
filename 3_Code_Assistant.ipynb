{
 "cells": [
  {
   "cell_type": "code",
   "execution_count": 24,
   "id": "c1070317-3ed9-4659-abe3-828943230e03",
   "metadata": {},
   "outputs": [],
   "source": [
    "# imports\n",
    "import requests\n",
    "import json\n",
    "from bs4 import BeautifulSoup\n",
    "from IPython.display import Markdown, display\n"
   ]
  },
  {
   "cell_type": "code",
   "execution_count": 25,
   "id": "4a456906-915a-4bfd-bb9d-57e505c5093f",
   "metadata": {},
   "outputs": [],
   "source": [
    "# constants\n",
    "\n",
    "#MODEL_GPT = 'gpt-4o-mini'\n",
    "\n",
    "# Constants\n",
    "\n",
    "OLLAMA_API = \"http://localhost:11434/api/chat\"\n",
    "HEADERS = {\"Content-Type\": \"application/json\"}\n",
    "MODEL = \"llama3.2\"\n"
   ]
  },
  {
   "cell_type": "code",
   "execution_count": 26,
   "id": "a8d7923c-5f28-4c30-8556-342d7c8497c1",
   "metadata": {},
   "outputs": [],
   "source": [
    "# set up environment\n",
    "\n",
    "system_prompt = \"You are an expert code tutor with a knack for explaining code in a structured and beginner-friendly way. You will be sent snippets of code, and your job is to:\\n\\n\"\n",
    "system_prompt += \"1. Clearly explain what the code does in detail, step by step.\\n\"\n",
    "system_prompt += \"2. Provide a structured explanation using markdown formatting.\\n\"\n",
    "system_prompt += \"3. Use headings, bullet points, and code blocks to make the explanation engaging and easy to follow.\\n\"\n",
    "system_prompt += \"4. Summarize the code's purpose concisely at the end.\\n\\n\"\n",
    "system_prompt += \"Here are examples of how you should respond:\\n\\n\"\n",
    "system_prompt += \"---\\n\\n\"\n",
    "system_prompt += \"**Example 1: Python Function**\\n\\n\"\n",
    "system_prompt += \"Input Code:\\n\"\n",
    "system_prompt += \"```python\\n\"\n",
    "system_prompt += \"def add_numbers(a, b):\\n\"\n",
    "system_prompt += \"    return a + b\\n\"\n",
    "system_prompt += \"```\\n\\n\"\n",
    "system_prompt += \"Response:\\n\"\n",
    "system_prompt += \"```markdown\\n\"\n",
    "system_prompt += \"### Explanation\\n\\n\"\n",
    "system_prompt += \"**Code Overview**:\\n\"\n",
    "system_prompt += \"This code defines a simple Python function that takes two arguments and returns their sum.\\n\\n\"\n",
    "system_prompt += \"**Breakdown**:\\n\"\n",
    "system_prompt += \"1. `def add_numbers(a, b):`:\\n\"\n",
    "system_prompt += \"   - Defines a function named `add_numbers` with two parameters, `a` and `b`.\\n\"\n",
    "system_prompt += \"2. `return a + b`:\\n\"\n",
    "system_prompt += \"   - Computes the sum of `a` and `b` and returns the result.\\n\\n\"\n",
    "system_prompt += \"**Purpose**:\\n\"\n",
    "system_prompt += \"This function provides a reusable way to calculate the sum of two numbers.\\n\"\n",
    "system_prompt += \"```\\n\\n\"\n",
    "system_prompt += \"---\\n\\n\"\n",
    "system_prompt += \"**Example 2: Looping Through a List**\\n\\n\"\n",
    "system_prompt += \"Input Code:\\n\"\n",
    "system_prompt += \"```python\\n\"\n",
    "system_prompt += \"fruits = [\\\"apple\\\", \\\"banana\\\", \\\"cherry\\\"]\\n\"\n",
    "system_prompt += \"for fruit in fruits:\\n\"\n",
    "system_prompt += \"    print(fruit)\\n\"\n",
    "system_prompt += \"```\\n\\n\"\n",
    "system_prompt += \"Response:\\n\"\n",
    "system_prompt += \"```markdown\\n\"\n",
    "system_prompt += \"### Explanation\\n\\n\"\n",
    "system_prompt += \"**Code Overview**:\\n\"\n",
    "system_prompt += \"This code iterates through a list of fruits and prints each fruit to the console.\\n\\n\"\n",
    "system_prompt += \"**Breakdown**:\\n\"\n",
    "system_prompt += \"1. `fruits = [\\\"apple\\\", \\\"banana\\\", \\\"cherry\\\"]`:\\n\"\n",
    "system_prompt += \"   - Initializes a list containing three strings: `\\\"apple\\\"`, `\\\"banana\\\"`, and `\\\"cherry\\\"`.\\n\"\n",
    "system_prompt += \"2. `for fruit in fruits:`:\\n\"\n",
    "system_prompt += \"   - Starts a loop that iterates over each element in the `fruits` list.\\n\"\n",
    "system_prompt += \"3. `print(fruit)`:\\n\"\n",
    "system_prompt += \"   - Prints the current element (fruit) in the loop to the console.\\n\\n\"\n",
    "system_prompt += \"**Purpose**:\\n\"\n",
    "system_prompt += \"This code demonstrates how to iterate through a list and perform an action for each element.\\n\"\n",
    "system_prompt += \"```\\n\\n\"\n",
    "system_prompt += \"---\\n\\n\"\n",
    "system_prompt += \"Follow this structure and ensure clarity in your explanations. If code is incorrect or could be optimized, provide suggestions in a helpful tone.\\n\"\n"
   ]
  },
  {
   "cell_type": "code",
   "execution_count": 27,
   "id": "3f0d0137-52b0-47a8-81a8-11a90a010798",
   "metadata": {},
   "outputs": [],
   "source": [
    "# here is the question; type over this to ask something new\n",
    "\n",
    "question = \"\"\"\n",
    "Please explain what this code does and why:\n",
    "yield from {book.get(\"author\") for book in books if book.get(\"author\")}\n",
    "\"\"\""
   ]
  },
  {
   "cell_type": "code",
   "execution_count": 28,
   "id": "bd70535b-10db-484c-8991-4e0631c52166",
   "metadata": {},
   "outputs": [],
   "source": [
    "user_prompt = question"
   ]
  },
  {
   "cell_type": "code",
   "execution_count": 29,
   "id": "3bdbc275-2d05-4493-9503-4b4b7a7951e2",
   "metadata": {},
   "outputs": [],
   "source": [
    "def messages_for_code():\n",
    "    return [\n",
    "        {\"role\": \"system\", \"content\": system_prompt},\n",
    "        {\"role\": \"user\", \"content\": user_prompt}\n",
    "    ]"
   ]
  },
  {
   "cell_type": "code",
   "execution_count": 30,
   "id": "9b60398f-c5c6-46ed-a677-9b80dcaac269",
   "metadata": {},
   "outputs": [],
   "source": [
    "def explain_code():\n",
    "     payload = {\n",
    "        \"model\": MODEL,\n",
    "        \"messages\": messages_for_code(),\n",
    "        \"stream\":  False\n",
    "    }\n",
    "     response = requests.post(OLLAMA_API, json=payload, headers=HEADERS)\n",
    "     return (response.json()['message']['content'])"
   ]
  },
  {
   "cell_type": "code",
   "execution_count": 31,
   "id": "5e66a136-5b86-4c94-ae2b-d5e8f840d9e4",
   "metadata": {},
   "outputs": [
    {
     "data": {
      "text/plain": [
       "'### Explanation\\n\\n#### Code Overview\\nThis code uses a combination of Python\\'s dictionary and generator features to extract author names from a list of books.\\n\\n#### Breakdown\\n1. `yield from`:\\n   - This is a syntax feature introduced in Python 3.3 that allows the use of the `yield from` expression, which delegates the iteration over the object inside it.\\n2. `{book.get(\"author\") for book in books if book.get(\"author\")}`:\\n   - This is a generator expression, also known as a list comprehension with parentheses instead of curly brackets.\\n   - It iterates over each book in the `books` collection (assuming it\\'s a dictionary or iterable that contains dictionaries).\\n   - The `if` condition filters out books without an \"author\" key.\\n   - For each book, it extracts and yields the value associated with the \"author\" key.\\n\\n#### How it Works\\nThe code works as follows:\\n- It iterates over each book in the `books` collection.\\n- For each book, it checks if the \"author\" key exists. If it does, it extracts the author\\'s name.\\n- The extracted author\\'s name is then yielded by the generator expression.\\n- This yields a sequence of authors\\' names, one for each book with an \"author\" key.\\n\\n#### Purpose\\nThis code provides a concise way to extract and iterate over author names from a collection of books. It can be used in scenarios where you need to process or manipulate lists of books, and you only care about the author\\'s name associated with each book.\\n\\nNote that this syntax is equivalent to using a for loop with an if condition, like so:\\n\\n```python\\nfor book in books:\\n    if \"author\" in book:\\n        yield book[\"author\"]\\n```\\n\\nHowever, the generator expression provides a more concise and readable way to express the same logic.'"
      ]
     },
     "execution_count": 31,
     "metadata": {},
     "output_type": "execute_result"
    }
   ],
   "source": [
    "explain_code()"
   ]
  },
  {
   "cell_type": "code",
   "execution_count": 32,
   "id": "60ce7000-a4a5-4cce-a261-e75ef45063b4",
   "metadata": {},
   "outputs": [],
   "source": [
    "# Get gpt-4o-mini to answer, with streaming"
   ]
  },
  {
   "cell_type": "code",
   "execution_count": 33,
   "id": "8f7c8ea8-4082-4ad0-8751-3301adcf6538",
   "metadata": {},
   "outputs": [],
   "source": [
    "# Get Llama 3.2 to answer\n",
    "\n",
    "def explain_code_stream():\n",
    "    payload = {\n",
    "        \"model\": MODEL,\n",
    "        \"messages\": messages_for_code(),\n",
    "        \"stream\":  True\n",
    "    }\n",
    "\n",
    "     # Initialize the display for live updates\n",
    "    display_handle = display(Markdown(\"\"), display_id=True)\n",
    "    response_accumulated = \"\"  # Accumulated response\n",
    "\n",
    "    try:\n",
    "        with requests.post(OLLAMA_API, json=payload, headers=HEADERS, stream=True) as response:\n",
    "            response.raise_for_status()  # Ensure the request was successful\n",
    "            \n",
    "            # Iterate through streamed response lines\n",
    "            for line in response.iter_lines():\n",
    "                if line:  # Ignore keep-alive newlines\n",
    "                    try:\n",
    "                        data = json.loads(line)\n",
    "                        if \"message\" in data and \"content\" in data[\"message\"]:\n",
    "                            content = data[\"message\"][\"content\"]\n",
    "                            response_accumulated += content\n",
    "                            # Clean and update the markdown display\n",
    "                            formatted_response = response_accumulated.replace(\"```\", \"\").replace(\"markdown\", \"\")\n",
    "                            display_handle.update(Markdown(formatted_response))  # Update the display\n",
    "                    except json.JSONDecodeError as e:\n",
    "                        print(f\"Error decoding JSON: {e}\")\n",
    "    except requests.exceptions.RequestException as e:\n",
    "        print(f\"Error with the request: {e}\")"
   ]
  },
  {
   "cell_type": "code",
   "execution_count": 34,
   "id": "a4f0dfbd-1bec-4dd7-9f99-392f66a79d3f",
   "metadata": {},
   "outputs": [
    {
     "data": {
      "text/markdown": [
       "### Explanation\n",
       "\n",
       "**Code Overview**\n",
       "This code uses a combination of dictionary methods and generator expressions to extract author names from a list of books.\n",
       "\n",
       "**Breakdown**\n",
       "\n",
       "* `yield from`: This keyword is used to delegate the iteration over the yielded values to another iterable. In this case, it delegates the iteration over the results of the expression that follows.\n",
       "* `{...}`: This is a dictionary literal comprehension, which creates a new dictionary containing key-value pairs generated by evaluating the expression inside.\n",
       "* `book.get(\"author\")`: For each book in the list, this line attempts to retrieve the value associated with the \"author\" key. If the key does not exist, `get` returns `None`.\n",
       "* `{... for book in books if ...}`: This is a generator expression that iterates over the list of books using the loop variable `book`. The `if` clause filters out any book dictionaries that do not contain an \"author\" key.\n",
       "\n",
       "**Purpose**\n",
       "This code generates an iterable sequence of author names from a list of book dictionaries, filtering out any books without authors. The resulting iterable can be used in various contexts, such as:\n",
       "\n",
       "* Iterating over the author names to display them in a UI\n",
       "* Using as input for another function that expects an iterable of strings\n",
       "* Assigning to a variable or using as a key-value pair in another data structure\n",
       "\n",
       "### Example Use Case\n",
       "\n",
       "Suppose you have a list of book dictionaries like this:\n",
       "python\n",
       "books = [\n",
       "    {\"title\": \"Book 1\", \"author\": \"John Doe\"},\n",
       "    {\"title\": \"Book 2\", \"publisher\": \"ABC Inc.\"},\n",
       "    {\"title\": \"Book 3\", \"author\": \"Jane Smith\"}\n",
       "]\n",
       "\n",
       "Using the code snippet provided, you can get an iterable sequence of author names like this:\n",
       "python\n",
       "authors = yield from {book.get(\"author\") for book in books if book.get(\"author\")}\n",
       "print(authors)  # Output: [\"John Doe\", \"Jane Smith\"]\n",
       "\n",
       "Note that `yield from` is a shorthand way to implement iterators, making the code more concise and expressive."
      ],
      "text/plain": [
       "<IPython.core.display.Markdown object>"
      ]
     },
     "metadata": {},
     "output_type": "display_data"
    }
   ],
   "source": [
    "explain_code_stream()"
   ]
  },
  {
   "cell_type": "code",
   "execution_count": null,
   "id": "2417c117-7fb4-4ce4-a3b5-83edc9bb6582",
   "metadata": {},
   "outputs": [],
   "source": []
  }
 ],
 "metadata": {
  "kernelspec": {
   "display_name": "Python 3 (ipykernel)",
   "language": "python",
   "name": "python3"
  },
  "language_info": {
   "codemirror_mode": {
    "name": "ipython",
    "version": 3
   },
   "file_extension": ".py",
   "mimetype": "text/x-python",
   "name": "python",
   "nbconvert_exporter": "python",
   "pygments_lexer": "ipython3",
   "version": "3.11.11"
  }
 },
 "nbformat": 4,
 "nbformat_minor": 5
}
